{
 "cells": [
  {
   "cell_type": "code",
   "execution_count": 1,
   "metadata": {},
   "outputs": [],
   "source": [
    "import sys\n",
    "\n",
    "\n",
    "sys.path.append('./handlers')"
   ]
  },
  {
   "cell_type": "markdown",
   "metadata": {},
   "source": [
    "## Проверка работы цепочек слов"
   ]
  },
  {
   "cell_type": "code",
   "execution_count": 2,
   "metadata": {},
   "outputs": [],
   "source": [
    "from handlers.words import Word, ChainOfWords"
   ]
  },
  {
   "cell_type": "code",
   "execution_count": 3,
   "metadata": {},
   "outputs": [],
   "source": [
    "def test_1():\n",
    "    chain = ChainOfWords()\n",
    "\n",
    "    word = Word('1', 1)\n",
    "    print(word)\n",
    "    chain.add_word(word)\n",
    "    print(word)\n",
    "    print('first:', chain.first)\n",
    "    print('last:', chain.last)\n",
    "    print()\n",
    "\n",
    "    word_was_1 = word\n",
    "    word = Word('2', 2)\n",
    "    print(word)\n",
    "    chain.add_word(word)\n",
    "    print(word)\n",
    "    print(word_was_1)\n",
    "    print('first:', chain.first)\n",
    "    print('last:', chain.last)\n",
    "    print()\n",
    "\n",
    "    word_was_2 = word\n",
    "    word = Word('3', 3)\n",
    "    print(word)\n",
    "    chain.add_word(word)\n",
    "    print(word)\n",
    "    print(word_was_1)\n",
    "    print(word_was_2)\n",
    "    print('first:', chain.first)\n",
    "    print('last:', chain.last)\n",
    "    print()\n",
    "\n",
    "    for w in chain:\n",
    "        print(w)\n",
    "    print()\n",
    "\n",
    "    print(chain)"
   ]
  },
  {
   "cell_type": "code",
   "execution_count": 4,
   "metadata": {},
   "outputs": [],
   "source": [
    "\n",
    "def test_2():\n",
    "    chain = ChainOfWords()\n",
    "    word_1 = Word('1', 1)\n",
    "    chain.add_word(word_1)\n",
    "    word_2 = Word('2', 2)\n",
    "    chain.add_word(word_2)\n",
    "    word_3 = Word('3', 3)\n",
    "    chain.add_word(word_3)\n",
    "    word_4 = Word('4', 4)\n",
    "    chain.add_word(word_4)\n",
    "\n",
    "    chain.remove_word(word_4)\n",
    "    for w in chain:\n",
    "        print(w)\n",
    "    print()\n",
    "\n",
    "    chain.add_word(word_4)\n",
    "    chain.remove_word(word_2)\n",
    "    for w in chain:\n",
    "        print(w)\n",
    "    print()\n",
    "\n",
    "    chain.remove_word(word_2)\n",
    "    for w in chain:\n",
    "        print(w)\n",
    "    print()\n",
    "\n",
    "    chain.remove_word(word_1)\n",
    "    for w in chain:\n",
    "        print(w)\n",
    "    print()\n",
    "\n",
    "    chain.remove_word(word_3)\n",
    "    chain.remove_word(word_4)\n",
    "    print('removed all')\n",
    "    for w in chain:\n",
    "        print(w)\n",
    "    print('showed all')\n",
    "    print()"
   ]
  },
  {
   "cell_type": "code",
   "execution_count": 5,
   "metadata": {},
   "outputs": [
    {
     "name": "stdout",
     "output_type": "stream",
     "text": [
      "\"1\" at 1 (<None> <None>)\n",
      "\"1\" at 1 (<None> <None>)\n",
      "first: \"1\" at 1 (<None> <None>)\n",
      "last: \"1\" at 1 (<None> <None>)\n",
      "\n",
      "\"2\" at 2 (<None> <None>)\n",
      "\"2\" at 2 (<\"1\" at 1> <None>)\n",
      "\"1\" at 1 (<None> <\"2\" at 2>)\n",
      "first: \"1\" at 1 (<None> <\"2\" at 2>)\n",
      "last: \"2\" at 2 (<\"1\" at 1> <None>)\n",
      "\n",
      "\"3\" at 3 (<None> <None>)\n",
      "\"3\" at 3 (<\"2\" at 2> <None>)\n",
      "\"1\" at 1 (<None> <\"2\" at 2>)\n",
      "\"2\" at 2 (<\"1\" at 1> <\"3\" at 3>)\n",
      "first: \"1\" at 1 (<None> <\"2\" at 2>)\n",
      "last: \"3\" at 3 (<\"2\" at 2> <None>)\n",
      "\n",
      "\"1\" at 1 (<None> <\"2\" at 2>)\n",
      "\"2\" at 2 (<\"1\" at 1> <\"3\" at 3>)\n",
      "\"3\" at 3 (<\"2\" at 2> <None>)\n",
      "\n",
      "chain [\n",
      "\"1\" at 1 (<None> <\"2\" at 2>)\n",
      "\"2\" at 2 (<\"1\" at 1> <\"3\" at 3>)\n",
      "\"3\" at 3 (<\"2\" at 2> <None>)\n",
      "]\n"
     ]
    }
   ],
   "source": [
    "test_1()"
   ]
  },
  {
   "cell_type": "code",
   "execution_count": 6,
   "metadata": {},
   "outputs": [
    {
     "name": "stdout",
     "output_type": "stream",
     "text": [
      "\"1\" at 1 (<None> <\"2\" at 2>)\n",
      "\"2\" at 2 (<\"1\" at 1> <\"3\" at 3>)\n",
      "\"3\" at 3 (<\"2\" at 2> <None>)\n",
      "\n",
      "\"1\" at 1 (<None> <\"3\" at 3>)\n",
      "\"3\" at 3 (<\"1\" at 1> <\"4\" at 4>)\n",
      "\"4\" at 4 (<\"3\" at 3> <None>)\n",
      "\n",
      "\"1\" at 1 (<None> <\"3\" at 3>)\n",
      "\"3\" at 3 (<\"1\" at 1> <\"4\" at 4>)\n",
      "\"4\" at 4 (<\"3\" at 3> <None>)\n",
      "\n",
      "\"3\" at 3 (<None> <\"4\" at 4>)\n",
      "\"4\" at 4 (<\"3\" at 3> <None>)\n",
      "\n",
      "removed all\n",
      "showed all\n",
      "\n"
     ]
    }
   ],
   "source": [
    "test_2()"
   ]
  },
  {
   "cell_type": "markdown",
   "metadata": {},
   "source": [
    "## Получение списка цепочек слов"
   ]
  },
  {
   "cell_type": "code",
   "execution_count": 2,
   "metadata": {},
   "outputs": [],
   "source": [
    "from handlers.helpers import parse_chains_of_words"
   ]
  },
  {
   "cell_type": "code",
   "execution_count": 3,
   "metadata": {},
   "outputs": [],
   "source": [
    "def test_3():\n",
    "    text = 'tomorrow I have a meeting with Tim Hanks Tom Crus and Eastwud'\n",
    "    chains = parse_chains_of_words(text)\n",
    "    for chain in chains:\n",
    "        print(chain)"
   ]
  },
  {
   "cell_type": "code",
   "execution_count": 4,
   "metadata": {},
   "outputs": [
    {
     "name": "stdout",
     "output_type": "stream",
     "text": [
      "chain [\n",
      "\"Tim\" at 31 (<None> <\"Hanks\" at 35>)\n",
      "\"Hanks\" at 35 (<\"Tim\" at 31> <\"Tom\" at 41>)\n",
      "\"Tom\" at 41 (<\"Hanks\" at 35> <\"Crus\" at 45>)\n",
      "\"Crus\" at 45 (<\"Tom\" at 41> <None>)\n",
      "]\n",
      "chain [\n",
      "\"Eastwud\" at 54 (<None> <None>)\n",
      "]\n"
     ]
    }
   ],
   "source": [
    "test_3()"
   ]
  },
  {
   "cell_type": "code",
   "execution_count": null,
   "metadata": {},
   "outputs": [],
   "source": []
  }
 ],
 "metadata": {
  "kernelspec": {
   "display_name": "Python 3",
   "language": "python",
   "name": "python3"
  },
  "language_info": {
   "codemirror_mode": {
    "name": "ipython",
    "version": 3
   },
   "file_extension": ".py",
   "mimetype": "text/x-python",
   "name": "python",
   "nbconvert_exporter": "python",
   "pygments_lexer": "ipython3",
   "version": "3.7.3"
  }
 },
 "nbformat": 4,
 "nbformat_minor": 2
}
