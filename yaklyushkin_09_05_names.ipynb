{
 "cells": [
  {
   "cell_type": "code",
   "execution_count": 1,
   "metadata": {},
   "outputs": [],
   "source": [
    "import sys\n",
    "\n",
    "\n",
    "sys.path.append('./handlers')"
   ]
  },
  {
   "cell_type": "markdown",
   "metadata": {},
   "source": [
    "## Пример работы с программой"
   ]
  },
  {
   "cell_type": "code",
   "execution_count": 2,
   "metadata": {},
   "outputs": [],
   "source": [
    "from yaklyushkin_09_05_names import prepare, read_context, read_corrections_list, read_texts, save_corrections_to_json"
   ]
  },
  {
   "cell_type": "code",
   "execution_count": 3,
   "metadata": {},
   "outputs": [],
   "source": [
    "CONTEXT_FILE_PATH = './data/context.json'\n",
    "TEXTS_FILE_PATH = './data/text.txt'\n",
    "\n",
    "OUT_JSON_PATH = './data/result.json'"
   ]
  },
  {
   "cell_type": "code",
   "execution_count": 4,
   "metadata": {},
   "outputs": [],
   "source": [
    "full_context = read_context(CONTEXT_FILE_PATH)\n",
    "text_list = read_texts(TEXTS_FILE_PATH)\n",
    "\n",
    "probability_limit = 0.8\n",
    "\n",
    "chains_list, context_correctors = prepare(full_context, probability_limit, text_list)\n",
    "\n",
    "corrections = read_corrections_list(chains_list, context_correctors)\n",
    "\n",
    "save_corrections_to_json(corrections, OUT_JSON_PATH)"
   ]
  },
  {
   "cell_type": "markdown",
   "metadata": {},
   "source": [
    "## Поиск исправлений (проверка)"
   ]
  },
  {
   "cell_type": "code",
   "execution_count": 2,
   "metadata": {},
   "outputs": [],
   "source": [
    "from yaklyushkin_09_05_names import find_corrections, prepare, read_context, read_texts"
   ]
  },
  {
   "cell_type": "code",
   "execution_count": 3,
   "metadata": {},
   "outputs": [],
   "source": [
    "CONTEXT_FILE_PATH = './data/context.json'\n",
    "TEXTS_FILE_PATH = './data/text.txt'"
   ]
  },
  {
   "cell_type": "code",
   "execution_count": 4,
   "metadata": {},
   "outputs": [],
   "source": [
    "full_context = read_context(CONTEXT_FILE_PATH)\n",
    "text_list = read_texts(TEXTS_FILE_PATH)\n",
    "\n",
    "probability_limit = 0.8\n",
    "\n",
    "chains_list, context_correctors = prepare(full_context, probability_limit, text_list)"
   ]
  },
  {
   "cell_type": "code",
   "execution_count": 5,
   "metadata": {},
   "outputs": [
    {
     "name": "stdout",
     "output_type": "stream",
     "text": [
      "tomorrow I have a meeting with Tim Hanks Tom Crus and Eastwud\n",
      "(41, 'Tom Crus', 'Tom Cruise', 0.9333333333333332, 'surname and name')\n",
      "(31, 'Tim Hanks', 'Tom Hanks', 0.9259259259259259, 'surname and name')\n",
      "(54, 'Eastwud', 'Eastwood', 0.8690476190476191, 'reversed surname and name')\n",
      "\n",
      "Michael likes movies with Jon Way and Client East\n",
      "(26, 'Jon Way', 'John Wayne', 0.9, 'surname and name')\n",
      "(38, 'Client East', 'Clint Eastwood', 0.8744588744588745, 'surname and name')\n",
      "\n",
      "Jonn invited me Jon Ham and Jon Wane, over for lunch\n",
      "(16, 'Jon Ham', 'Jon Hamm', 0.9583333333333334, 'surname and name')\n",
      "(28, 'Jon Wane', 'John Wayne', 0.9333333333333332, 'surname and name')\n",
      "\n"
     ]
    }
   ],
   "source": [
    "# Копия функции yaklyushkin_09_05_names.py:read_corrections_list\n",
    "corrections = list()\n",
    "for index, chains in enumerate(chains_list):\n",
    "    print(text_list[index])\n",
    "    tmp_result = list()\n",
    "    for chain in chains:\n",
    "        founded = find_corrections(chain, context_correctors)\n",
    "        for key in founded.keys():\n",
    "            for word in founded[key]:\n",
    "                dummy = (word.words[0][1].position, word.entered, word.correction, word.score, key,)\n",
    "                print(dummy)\n",
    "                tmp_result.append(dummy)\n",
    "    corrections.append(tmp_result)\n",
    "    print()"
   ]
  }
 ],
 "metadata": {
  "kernelspec": {
   "display_name": "Python 3",
   "language": "python",
   "name": "python3"
  },
  "language_info": {
   "codemirror_mode": {
    "name": "ipython",
    "version": 3
   },
   "file_extension": ".py",
   "mimetype": "text/x-python",
   "name": "python",
   "nbconvert_exporter": "python",
   "pygments_lexer": "ipython3",
   "version": "3.7.3"
  }
 },
 "nbformat": 4,
 "nbformat_minor": 2
}
